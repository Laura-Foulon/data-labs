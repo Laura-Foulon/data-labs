{
 "cells": [
  {
   "cell_type": "markdown",
   "metadata": {},
   "source": [
    "# Challenge 1 - Multiple Regression Analysis"
   ]
  },
  {
   "cell_type": "markdown",
   "metadata": {},
   "source": [
    "In this lab exercise we will work with the `vehicles.csv` data set. You can find a copy of the dataset in the directory of this lab. The objective of this exercise is to predict CO2 emissions for vehicles. Please follow the steps and provide your code along with comments.\n",
    "\n",
    "## Before your start:\n",
    "\n",
    "    Read the README.md file\n",
    "    Comment as much as you can and use the resources (README.md file)\n",
    "    Happy learning!"
   ]
  },
  {
   "cell_type": "code",
   "execution_count": null,
   "metadata": {},
   "outputs": [],
   "source": [
    "# Import required libraries and load dataset\n",
    "\n",
    "# your code here"
   ]
  },
  {
   "cell_type": "code",
   "execution_count": null,
   "metadata": {},
   "outputs": [],
   "source": [
    "# You can use the warnings library to ignore warnings that might show when you run the code\n",
    "import warnings\n",
    "warnings.filterwarnings('ignore')"
   ]
  },
  {
   "cell_type": "markdown",
   "metadata": {},
   "source": [
    "In this exercise, we are not going to use all the variables in the dataset to make the predictions. Here is the list of the numerical and categorical variables that we will use:\n",
    "    \n",
    "* Numerical: \n",
    "    * `Engine Displacement`\n",
    "    * `Fuel Barrels/Year`\n",
    "    * `Combined MPG`\n",
    "* Categorical: \n",
    "    * `Cylinders`\n",
    "    * `Fuel Type`\n",
    "    * `Drivetrain`\n",
    "\n",
    "Numerical and Categorical together make up the predictor variables. Target variable is `CO2 emissions for vehicles`."
   ]
  },
  {
   "cell_type": "markdown",
   "metadata": {},
   "source": [
    "## Data Pre-processing\n",
    "\n",
    "### Handle Numerical variables\n",
    "\n",
    "First we will perform the data pre-processing operations on the specified numerical varibles."
   ]
  },
  {
   "cell_type": "code",
   "execution_count": null,
   "metadata": {},
   "outputs": [],
   "source": [
    "# Store the specified numerical columns data as a separate dataframe. Give it the name \"numerics\"\n",
    "\n",
    "# your code here"
   ]
  },
  {
   "cell_type": "markdown",
   "metadata": {},
   "source": [
    "### MinMax scaler"
   ]
  },
  {
   "cell_type": "markdown",
   "metadata": {},
   "source": [
    "Hint: Since we are using \"numerics\" to store the nummerical variables we can pass \"numerics\" directly\n",
    "as `MinMaxScaler().fit(numerics)`"
   ]
  },
  {
   "cell_type": "code",
   "execution_count": null,
   "metadata": {},
   "outputs": [],
   "source": [
    "# Import the required library\n",
    "# Perform the scaling and store the results inside \"numerical\"\n",
    "\n",
    "# your code here"
   ]
  },
  {
   "cell_type": "code",
   "execution_count": null,
   "metadata": {},
   "outputs": [],
   "source": [
    "# Convert \"numerical\" into a dataframe so that it can be used later with the dataframe of categorical variables\n",
    "\n",
    "# your code here"
   ]
  },
  {
   "cell_type": "markdown",
   "metadata": {},
   "source": [
    "### Data Pre-processing (Handling Categorical variables)\n",
    "\n",
    "In this step we will perform the data pre-processing operations on the specified categorical varibles"
   ]
  },
  {
   "cell_type": "code",
   "execution_count": null,
   "metadata": {},
   "outputs": [],
   "source": [
    "# Similar to numerical variables, store the specified categorical columns data as a dataframe. \n",
    "# Give it the name \"cats\"\n",
    "\n",
    "# your code here"
   ]
  },
  {
   "cell_type": "code",
   "execution_count": null,
   "metadata": {},
   "outputs": [],
   "source": [
    "# Check if \"cats\" is actually a dataframe using cats.head(3)\n",
    "\n",
    "# your code here"
   ]
  },
  {
   "cell_type": "markdown",
   "metadata": {},
   "source": [
    "## Using One Hot Encoding "
   ]
  },
  {
   "cell_type": "code",
   "execution_count": null,
   "metadata": {},
   "outputs": [],
   "source": [
    "# Perform One hot encoding and store the results (one hot encoded dataframe) into \"categorical\""
   ]
  },
  {
   "cell_type": "code",
   "execution_count": null,
   "metadata": {},
   "outputs": [],
   "source": [
    "## Check how the new OHE data looks like using the head() function"
   ]
  },
  {
   "cell_type": "raw",
   "metadata": {},
   "source": [
    "Now we have pre-processed our specified numerical and categorical data. \n",
    "In this next step we will combine the two dataframes (numerical and categorical)"
   ]
  },
  {
   "cell_type": "raw",
   "metadata": {},
   "source": [
    "You can the following code to combine / concatenate the two dataframes"
   ]
  },
  {
   "cell_type": "code",
   "execution_count": null,
   "metadata": {},
   "outputs": [],
   "source": [
    "X = pd.concat([numerical,categorical],axis=1)"
   ]
  },
  {
   "cell_type": "raw",
   "metadata": {},
   "source": [
    "Now that we have processed our predictor varibles, we can work towards fitting the multiple regression model \n",
    "on the data "
   ]
  },
  {
   "cell_type": "code",
   "execution_count": null,
   "metadata": {},
   "outputs": [],
   "source": [
    "## Store the target variable \"CO2 emissions for vehicles\" as a dataframe 'Y'"
   ]
  },
  {
   "cell_type": "code",
   "execution_count": null,
   "metadata": {},
   "outputs": [],
   "source": [
    "## Import the libraries required for regression model \n",
    "## Fit the linear regression model on the data"
   ]
  },
  {
   "cell_type": "code",
   "execution_count": null,
   "metadata": {},
   "outputs": [],
   "source": [
    "## Make predictions on the dataset, store the results in \"predictions\""
   ]
  },
  {
   "cell_type": "code",
   "execution_count": null,
   "metadata": {},
   "outputs": [],
   "source": [
    "## Print the measures of accuracy of the model - MSE, RMSE, and R2 score"
   ]
  },
  {
   "cell_type": "raw",
   "metadata": {},
   "source": [
    "Hint: Use from sklearn.metrics import mean_squared_error, r2_score"
   ]
  }
 ],
 "metadata": {
  "kernelspec": {
   "display_name": "Python 3",
   "language": "python",
   "name": "python3"
  },
  "language_info": {
   "codemirror_mode": {
    "name": "ipython",
    "version": 3
   },
   "file_extension": ".py",
   "mimetype": "text/x-python",
   "name": "python",
   "nbconvert_exporter": "python",
   "pygments_lexer": "ipython3",
   "version": "3.7.3"
  }
 },
 "nbformat": 4,
 "nbformat_minor": 2
}
